{
  "nbformat": 4,
  "nbformat_minor": 0,
  "metadata": {
    "colab": {
      "provenance": [],
      "authorship_tag": "ABX9TyMTKMFRqIYaZHj7RmH82ZLm",
      "include_colab_link": true
    },
    "kernelspec": {
      "name": "python3",
      "display_name": "Python 3"
    },
    "language_info": {
      "name": "python"
    }
  },
  "cells": [
    {
      "cell_type": "markdown",
      "metadata": {
        "id": "view-in-github",
        "colab_type": "text"
      },
      "source": [
        "<a href=\"https://colab.research.google.com/github/sugaloy/Roop-knockoff/blob/main/RRoop.ipynb\" target=\"_parent\"><img src=\"https://colab.research.google.com/assets/colab-badge.svg\" alt=\"Open In Colab\"/></a>"
      ]
    },
    {
      "cell_type": "code",
      "execution_count": null,
      "metadata": {
        "id": "CqvSadBTfP3U"
      },
      "outputs": [],
      "source": [
        "\n",
        "!pip install gitpython\n",
        "\n",
        "import time\n",
        "import git  # pip install gitpython\n",
        "from git import RemoteProgress\n",
        "\n",
        "class CloneProgress(RemoteProgress):\n",
        "    def update(self, op_code, cur_count, max_count=None, message=''):\n",
        "        if message:\n",
        "            print(message)\n",
        "\n",
        "git.Repo.clone_from('https://github.com/s0md3v/roop', '/roop/' ,progress=CloneProgress())"
      ]
    },
    {
      "cell_type": "code",
      "source": [
        "pip install -r /roop/requirements.txt"
      ],
      "metadata": {
        "id": "OLCMEtllfXNq"
      },
      "execution_count": null,
      "outputs": []
    },
    {
      "cell_type": "code",
      "source": [
        "!python run.py -s '/roop/roop/Images/2.JPG' -t '/roop/roop/target2.jpg' -o '/roop/roop/Images/tejoman.jpg' --output-video-encoder libx264 --temp-frame-quality 0 --output-video-quality 0\n"
      ],
      "metadata": {
        "id": "Y30mC7LMh8X0"
      },
      "execution_count": null,
      "outputs": []
    },
    {
      "cell_type": "code",
      "source": [
        "!python /roop/run.py -s '/roop/roop/2.JPG' -t '/roop/roop/target2.jpg' -o '/roop/roop/tejoman.jpg'\n"
      ],
      "metadata": {
        "id": "22nAcMDwnAjz"
      },
      "execution_count": null,
      "outputs": []
    }
  ]
}